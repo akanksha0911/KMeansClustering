{
  "nbformat": 4,
  "nbformat_minor": 0,
  "metadata": {
    "colab": {
      "name": "K-MeansClustering.ipynb",
      "provenance": [],
      "collapsed_sections": [],
      "authorship_tag": "ABX9TyNsB1ZavVJOloJoz4KOy2Vt",
      "include_colab_link": true
    },
    "kernelspec": {
      "name": "python3",
      "display_name": "Python 3"
    },
    "language_info": {
      "name": "python"
    }
  },
  "cells": [
    {
      "cell_type": "markdown",
      "metadata": {
        "id": "view-in-github",
        "colab_type": "text"
      },
      "source": [
        "<a href=\"https://colab.research.google.com/github/akanksha0911/KMeansClustering/blob/main/K_MeansClustering.ipynb\" target=\"_parent\"><img src=\"https://colab.research.google.com/assets/colab-badge.svg\" alt=\"Open In Colab\"/></a>"
      ]
    },
    {
      "cell_type": "markdown",
      "metadata": {
        "id": "8h8PiZoP4EHJ"
      },
      "source": [
        "**Importing libs and clustering for K= 3, 2, 4. Resulted centroids**"
      ]
    },
    {
      "cell_type": "code",
      "metadata": {
        "id": "pHd9LeuOpsDi"
      },
      "source": [
        "from sklearn.cluster import KMeans\n",
        "from sklearn import metrics\n",
        "import numpy as np\n",
        "import matplotlib.pyplot as plt\n",
        "%matplotlib inline\n",
        "import pandas as pd"
      ],
      "execution_count": 1,
      "outputs": []
    },
    {
      "cell_type": "code",
      "metadata": {
        "id": "aVAYcFG1W_q6",
        "colab": {
          "base_uri": "https://localhost:8080/"
        },
        "outputId": "f2b9e6d3-76a5-47a5-dd14-2534efdb6490"
      },
      "source": [
        "numpy_data = np.array([[3, 5], [3, 4], [5, 6], [2, 6], [4, 5], [6, 8], [6, 2], [6, 3], [5, 6], [6, 7], [7, 2], [8, 5], [9, 1],\n",
        "                       [8, 2], [9, 6], [9, 1], [8, 3]])\n",
        "\n",
        "df = pd.DataFrame(data=numpy_data, columns=[\"X\", \"Y\"])\n",
        "print(df)"
      ],
      "execution_count": 4,
      "outputs": [
        {
          "output_type": "stream",
          "name": "stdout",
          "text": [
            "    X  Y\n",
            "0   3  5\n",
            "1   3  4\n",
            "2   5  6\n",
            "3   2  6\n",
            "4   4  5\n",
            "5   6  8\n",
            "6   6  2\n",
            "7   6  3\n",
            "8   5  6\n",
            "9   6  7\n",
            "10  7  2\n",
            "11  8  5\n",
            "12  9  1\n",
            "13  8  2\n",
            "14  9  6\n",
            "15  9  1\n",
            "16  8  3\n"
          ]
        }
      ]
    },
    {
      "cell_type": "code",
      "metadata": {
        "id": "ARwKLJQCezca"
      },
      "source": [
        "# df = df.drop_duplicates(subset=['X', 'Y'])\n",
        "# df"
      ],
      "execution_count": null,
      "outputs": []
    },
    {
      "cell_type": "code",
      "metadata": {
        "id": "y3iAT-TWg1Mj"
      },
      "source": [
        "# df.reset_index(drop=True)"
      ],
      "execution_count": null,
      "outputs": []
    },
    {
      "cell_type": "code",
      "metadata": {
        "colab": {
          "base_uri": "https://localhost:8080/",
          "height": 458
        },
        "id": "KLY1GGQuccCJ",
        "outputId": "2a9a7361-37c6-4a9b-b7a4-ff2295c1b776"
      },
      "source": [
        "plt.figure(figsize=(10,7))\n",
        "plt.scatter(df['X'], df['Y'], s=80, c='r', marker='*')\n",
        "plt.xlabel('Column X')\n",
        "plt.ylabel('column Y')\n",
        "plt.title('Scatter Plot of X and Y')\n",
        "for j in df.itertuples():\n",
        "    plt.annotate(j.Index, (j.X, j.Y), fontsize=15)"
      ],
      "execution_count": 5,
      "outputs": [
        {
          "output_type": "display_data",
          "data": {
            "image/png": "[encoded data removed]",
            "text/plain": [
              "<Figure size 720x504 with 1 Axes>"
            ]
          },
          "metadata": {
            "needs_background": "light"
          }
        }
      ]
    },
    {
      "cell_type": "markdown",
      "metadata": {
        "id": "aK0-aYfY1Oqd"
      },
      "source": [
        "**K= 3**"
      ]
    },
    {
      "cell_type": "code",
      "metadata": {
        "colab": {
          "base_uri": "https://localhost:8080/"
        },
        "id": "-EMxovb9jj0Q",
        "outputId": "955bb288-80f2-4b5b-ae9a-4ed0482d2a93"
      },
      "source": [
        "kmeans3 = KMeans(n_clusters=3) \n",
        "kmeans3.fit(df)"
      ],
      "execution_count": 35,
      "outputs": [
        {
          "output_type": "execute_result",
          "data": {
            "text/plain": [
              "KMeans(algorithm='auto', copy_x=True, init='k-means++', max_iter=300,\n",
              "       n_clusters=3, n_init=10, n_jobs=None, precompute_distances='auto',\n",
              "       random_state=None, tol=0.0001, verbose=0)"
            ]
          },
          "metadata": {},
          "execution_count": 35
        }
      ]
    },
    {
      "cell_type": "code",
      "metadata": {
        "id": "huKrV94GkJUe"
      },
      "source": [
        "y_kmeans3 = kmeans3.predict(df)"
      ],
      "execution_count": 36,
      "outputs": []
    },
    {
      "cell_type": "code",
      "metadata": {
        "colab": {
          "base_uri": "https://localhost:8080/",
          "height": 283
        },
        "id": "i39XSpcQkVie",
        "outputId": "d69182dc-167e-4d8f-f69e-96e1f83fdf37"
      },
      "source": [
        "plt.scatter(df['X'], df['Y'], c=y_kmeans3, s=50, cmap='viridis')\n",
        "\n",
        "centers = kmeans3.cluster_centers_\n",
        "centers\n",
        "plt.scatter(centers[:, 0], centers[:, 1], s=100, c='r', marker='*')"
      ],
      "execution_count": 37,
      "outputs": [
        {
          "output_type": "execute_result",
          "data": {
            "text/plain": [
              "<matplotlib.collections.PathCollection at 0x7f614c7c4a90>"
            ]
          },
          "metadata": {},
          "execution_count": 37
        },
        {
          "output_type": "display_data",
          "data": {
            "image/png": "[encoded data removed]",
            "text/plain": [
              "<Figure size 432x288 with 1 Axes>"
            ]
          },
          "metadata": {
            "needs_background": "light"
          }
        }
      ]
    },
    {
      "cell_type": "code",
      "metadata": {
        "colab": {
          "base_uri": "https://localhost:8080/"
        },
        "id": "lgrzbr7QmNjz",
        "outputId": "9857ef84-ee51-4e2d-f642-e0315a42ffec"
      },
      "source": [
        "centers = kmeans3.cluster_centers_\n",
        "centers"
      ],
      "execution_count": 38,
      "outputs": [
        {
          "output_type": "execute_result",
          "data": {
            "text/plain": [
              "array([[3.66666667, 5.33333333],\n",
              "       [7.57142857, 2.        ],\n",
              "       [7.25      , 6.5       ]])"
            ]
          },
          "metadata": {},
          "execution_count": 38
        }
      ]
    },
    {
      "cell_type": "markdown",
      "metadata": {
        "id": "rbdF9Xml2OIJ"
      },
      "source": [
        "**K= 2**"
      ]
    },
    {
      "cell_type": "code",
      "metadata": {
        "colab": {
          "base_uri": "https://localhost:8080/"
        },
        "id": "KGGKP1QC2T7X",
        "outputId": "44d7e197-e246-48c4-8fcb-456172e01d63"
      },
      "source": [
        "kmeans2 = KMeans(n_clusters=2) \n",
        "kmeans2.fit(df)"
      ],
      "execution_count": 39,
      "outputs": [
        {
          "output_type": "execute_result",
          "data": {
            "text/plain": [
              "KMeans(algorithm='auto', copy_x=True, init='k-means++', max_iter=300,\n",
              "       n_clusters=2, n_init=10, n_jobs=None, precompute_distances='auto',\n",
              "       random_state=None, tol=0.0001, verbose=0)"
            ]
          },
          "metadata": {},
          "execution_count": 39
        }
      ]
    },
    {
      "cell_type": "code",
      "metadata": {
        "id": "zWjvSIMy2ayl"
      },
      "source": [
        "y_kmeans2 = kmeans2.predict(df)"
      ],
      "execution_count": 41,
      "outputs": []
    },
    {
      "cell_type": "code",
      "metadata": {
        "colab": {
          "base_uri": "https://localhost:8080/",
          "height": 283
        },
        "id": "QWQCdaOT2fsw",
        "outputId": "3e130e59-2f3c-43d0-a36b-9aeb0bfc0488"
      },
      "source": [
        "plt.scatter(df['X'], df['Y'], c=y_kmeans2, s=50, cmap='viridis')\n",
        "\n",
        "centers = kmeans2.cluster_centers_\n",
        "centers\n",
        "plt.scatter(centers[:, 0], centers[:, 1], s=100, c='r', marker='*')"
      ],
      "execution_count": 42,
      "outputs": [
        {
          "output_type": "execute_result",
          "data": {
            "text/plain": [
              "<matplotlib.collections.PathCollection at 0x7f614c74c290>"
            ]
          },
          "metadata": {},
          "execution_count": 42
        },
        {
          "output_type": "display_data",
          "data": {
            "image/png": "[encoded data removed]",
            "text/plain": [
              "<Figure size 432x288 with 1 Axes>"
            ]
          },
          "metadata": {
            "needs_background": "light"
          }
        }
      ]
    },
    {
      "cell_type": "code",
      "metadata": {
        "colab": {
          "base_uri": "https://localhost:8080/"
        },
        "id": "eI6Sa8gV24Fv",
        "outputId": "03078225-97bc-4ab8-e384-f86ced753887"
      },
      "source": [
        "centers = kmeans2.cluster_centers_\n",
        "centers"
      ],
      "execution_count": 43,
      "outputs": [
        {
          "output_type": "execute_result",
          "data": {
            "text/plain": [
              "array([[4.25      , 5.875     ],\n",
              "       [7.77777778, 2.77777778]])"
            ]
          },
          "metadata": {},
          "execution_count": 43
        }
      ]
    },
    {
      "cell_type": "markdown",
      "metadata": {
        "id": "fcXe5rHQ27VS"
      },
      "source": [
        "**K= 4**"
      ]
    },
    {
      "cell_type": "code",
      "metadata": {
        "colab": {
          "base_uri": "https://localhost:8080/"
        },
        "id": "MK_Li8ux3IF6",
        "outputId": "262381e5-2362-464d-81ee-84232f6d15d8"
      },
      "source": [
        "kmeans4 = KMeans(n_clusters=4) \n",
        "kmeans4.fit(df)"
      ],
      "execution_count": 44,
      "outputs": [
        {
          "output_type": "execute_result",
          "data": {
            "text/plain": [
              "KMeans(algorithm='auto', copy_x=True, init='k-means++', max_iter=300,\n",
              "       n_clusters=4, n_init=10, n_jobs=None, precompute_distances='auto',\n",
              "       random_state=None, tol=0.0001, verbose=0)"
            ]
          },
          "metadata": {},
          "execution_count": 44
        }
      ]
    },
    {
      "cell_type": "code",
      "metadata": {
        "id": "kvS6BEQS3cqZ"
      },
      "source": [
        "y_kmeans4 = kmeans4.predict(df)"
      ],
      "execution_count": 45,
      "outputs": []
    },
    {
      "cell_type": "code",
      "metadata": {
        "colab": {
          "base_uri": "https://localhost:8080/",
          "height": 283
        },
        "id": "uySlrUSM3hvI",
        "outputId": "58a44e24-9d5c-4ead-8e7f-e78051953689"
      },
      "source": [
        "plt.scatter(df['X'], df['Y'], c=y_kmeans4, s=50, cmap='viridis')\n",
        "\n",
        "centers = kmeans4.cluster_centers_\n",
        "centers\n",
        "plt.scatter(centers[:, 0], centers[:, 1], s=100, c='r', marker='*')"
      ],
      "execution_count": 46,
      "outputs": [
        {
          "output_type": "execute_result",
          "data": {
            "text/plain": [
              "<matplotlib.collections.PathCollection at 0x7f61446c0990>"
            ]
          },
          "metadata": {},
          "execution_count": 46
        },
        {
          "output_type": "display_data",
          "data": {
            "image/png": "[encoded data removed]",
            "text/plain": [
              "<Figure size 432x288 with 1 Axes>"
            ]
          },
          "metadata": {
            "needs_background": "light"
          }
        }
      ]
    },
    {
      "cell_type": "code",
      "metadata": {
        "colab": {
          "base_uri": "https://localhost:8080/"
        },
        "id": "1U1BVfu13npa",
        "outputId": "e715e870-a782-4e8d-ffa7-5a46eb6805d8"
      },
      "source": [
        "centers = kmeans4.cluster_centers_\n",
        "centers"
      ],
      "execution_count": 47,
      "outputs": [
        {
          "output_type": "execute_result",
          "data": {
            "text/plain": [
              "array([[5.5       , 6.75      ],\n",
              "       [7.57142857, 2.        ],\n",
              "       [8.5       , 5.5       ],\n",
              "       [3.        , 5.        ]])"
            ]
          },
          "metadata": {},
          "execution_count": 47
        }
      ]
    }
  ]
}